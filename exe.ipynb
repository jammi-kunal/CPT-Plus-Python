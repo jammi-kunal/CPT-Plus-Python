{
  "nbformat": 4,
  "nbformat_minor": 0,
  "metadata": {
    "colab": {
      "name": "exe.ipynb",
      "provenance": [],
      "collapsed_sections": [],
      "include_colab_link": true
    },
    "kernelspec": {
      "name": "python3",
      "display_name": "Python 3"
    },
    "language_info": {
      "name": "python"
    }
  },
  "cells": [
    {
      "cell_type": "markdown",
      "metadata": {
        "id": "view-in-github",
        "colab_type": "text"
      },
      "source": [
        "<a href=\"https://colab.research.google.com/github/jammi-kunal/CPT-Plus-Python/blob/main/exe.ipynb\" target=\"_parent\"><img src=\"https://colab.research.google.com/assets/colab-badge.svg\" alt=\"Open In Colab\"/></a>"
      ]
    },
    {
      "cell_type": "code",
      "metadata": {
        "id": "y9mCJ9PMGUFn",
        "colab": {
          "base_uri": "https://localhost:8080/",
          "height": 1000
        },
        "outputId": "558dca63-b34f-4edb-b2bb-294e8c1ce6ac"
      },
      "source": [
        "%run /content/drive/MyDrive/Colab\\ Notebooks/MainTestCPTPlus.py"
      ],
      "execution_count": null,
      "outputs": [
        {
          "output_type": "stream",
          "text": [
            "------------------------- Training Sequences --------------------------\n",
            "[ 1.  2.  3.  4.  6. nan]\n",
            "[ 4.  3.  2.  5. nan nan]\n",
            "[ 5.  1.  4.  3.  2. nan]\n",
            "[5. 7. 1. 4. 2. 3.]\n",
            "[1 2]\n",
            "[ 1.  2.  3.  4.  6. nan]\n",
            "[ 4.  3.  2.  5. nan nan]\n",
            "[ 5.  1.  4.  3.  2. nan]\n",
            "[5. 7. 1. 4. 2. 3.]\n",
            "[ 1.  2.  3.  4.  6. nan]\n",
            "[ 4.  3.  2.  5. nan nan]\n",
            "[ 5.  1.  4.  3.  2. nan]\n",
            "[5. 7. 1. 4. 2. 3.]\n",
            "[ 1.  2. nan nan]\n",
            "[5. 7. 1. 4.]\n",
            "------------------------- Training Sequences --------------------------\n",
            "Number of Sequences: \t\t 15\n",
            "Number of distinct items: \t 82\n",
            "Largest item id: \t\t 7.0\n",
            "Itemsets per sequence: \t\t 5.466666666666667\n",
            "Distinct item per sequence: \t 5.466666666666667\n",
            "Occurences of each item: \t 3\n",
            "Size of dataset in MB: \t\t 60.000328\n",
            "\n",
            "\n",
            "\n",
            "\n",
            "---------------PRINTING TREE---------------\n",
            "None\n",
            "   |__5\n",
            "      |__4\n",
            "         |__6\n",
            "            |__7\n",
            "               |__73\n",
            "               |__77\n",
            "               |__81\n",
            "      |__14\n",
            "         |__85\n",
            "            |__86\n",
            "   |__1\n",
            "      |__9\n",
            "         |__74\n",
            "            |__75\n",
            "         |__78\n",
            "            |__79\n",
            "         |__82\n",
            "            |__83\n",
            "   |__9\n",
            "      |__3\n",
            "         |__2\n",
            "            |__76\n",
            "            |__80\n",
            "            |__84\n",
            "      |__13\n",
            "         |__3\n",
            "            |__4\n",
            "\n",
            "\n",
            "\n",
            "{1.6173840605286336: [3.0, 3.0, 3.0], 1.2715880868288287: [4.0, 4.0, 4.0], 1.271529401759296: [6.0, 6.0, 6.0], 1.0833583333333332: [nan, nan, nan, nan, nan, nan, nan, nan, nan], 1.0834333333333332: [nan, nan, nan, nan, nan, nan, nan, nan, nan, nan, nan, nan], 1.0833833333333334: [nan, nan, nan], 1.2303006881205334: [5.0, 5.0], 1.0714785714285715: [nan, nan, nan, nan, nan, nan], 1.0714619047619047: [nan, nan, nan, nan, nan, nan]}\n",
            "\n",
            "The Pie chart of scores with their chance of occuring next\n"
          ],
          "name": "stdout"
        },
        {
          "output_type": "display_data",
          "data": {
            "image/png": "[encoded data removed]",
            "text/plain": [
              "<Figure size 432x288 with 1 Axes>"
            ]
          },
          "metadata": {
            "tags": []
          }
        },
        {
          "output_type": "stream",
          "text": [
            "\n",
            "\n",
            "\n",
            "For the sequence [1, 2] the prediction for the next symbol is: [3.0]\n",
            "\n",
            "Prediction cannot be made for this sequence according to the Compact Prediction Tree! Please check the Target Sequence.\n",
            "{1.3313630330010005: [2.0, 2.0, 2.0], 1.3311815082501257: [3.0, 3.0, 3.0], 1.2717641528713701: [6.0, 6.0], 1.0833833333333334: [nan, nan, nan, nan, nan, nan]}\n",
            "\n",
            "The Pie chart of scores with their chance of occuring next\n"
          ],
          "name": "stdout"
        },
        {
          "output_type": "display_data",
          "data": {
            "image/png": "[encoded data removed]",
            "text/plain": [
              "<Figure size 432x288 with 1 Axes>"
            ]
          },
          "metadata": {
            "tags": []
          }
        },
        {
          "output_type": "stream",
          "text": [
            "\n",
            "\n",
            "\n",
            "For the sequence [5.0, 7.0, 1.0, 4.0] the prediction for the next symbol is: []\n"
          ],
          "name": "stdout"
        }
      ]
    },
    {
      "cell_type": "code",
      "metadata": {
        "colab": {
          "base_uri": "https://localhost:8080/"
        },
        "id": "IGFf0cIEWMtz",
        "outputId": "3ead6179-2485-4904-d974-fb9cbea48aca"
      },
      "source": [
        "!python3 /content/drive/MyDrive/Colab\\ Notebooks/MainTestCPTPlus.py"
      ],
      "execution_count": null,
      "outputs": [
        {
          "output_type": "stream",
          "text": [
            "------------------------- Training Sequences --------------------------\n",
            "[ 1.  2.  3.  4.  6. nan]\n",
            "[ 4.  3.  2.  5. nan nan]\n",
            "[ 5.  1.  4.  3.  2. nan]\n",
            "[5. 7. 1. 4. 2. 3.]\n",
            "[ 1.  2. nan nan]\n",
            "[5. 7. 1. 4.]\n",
            "------------------------- Training Sequences --------------------------\n",
            "Number of Sequences: \t\t 6\n",
            "Number of distinct items: \t 32\n",
            "Largest item id: \t\t 7.0\n",
            "Itemsets per sequence: \t\t 5.333333333333333\n",
            "Distinct item per sequence: \t 5.333333333333333\n",
            "Occurences of each item: \t 3\n",
            "Size of dataset in MB: \t\t 24.000128\n",
            "\n",
            "\n",
            "\n",
            "\n",
            "---------------PRINTING TREE---------------\n",
            "None\n",
            "   |__5\n",
            "      |__11\n",
            "         |__12\n",
            "            |__13\n",
            "               |__14\n",
            "      |__19\n",
            "         |__20\n",
            "   |__1\n",
            "      |__15\n",
            "         |__16\n",
            "            |__17\n",
            "   |__15\n",
            "      |__3\n",
            "         |__2\n",
            "            |__18\n",
            "   |__8\n",
            "      |__4\n",
            "\n",
            "\n",
            "\n",
            "\n",
            "Prediction cannot be made for this sequence according to the Compact Prediction Tree! Please check the Target Sequence.\n",
            "{1.2501: [2.0, 2.0, 2.0], 1.25005: [3.0, 3.0, 3.0], 1.2001: [6.0, 6.0], 1.20005: [nan, nan]}\n",
            "\n",
            "The Pie chart of scores with their chance of occuring next\n",
            "<Figure size 640x480 with 1 Axes>\n",
            "\n",
            "\n",
            "\n",
            "For the sequence [5.0, 7.0, 1.0, 4.0] the prediction for the next symbol is: []\n"
          ],
          "name": "stdout"
        }
      ]
    },
    {
      "cell_type": "code",
      "metadata": {
        "colab": {
          "base_uri": "https://localhost:8080/"
        },
        "id": "sSxwc5BRwgoT",
        "outputId": "fc136207-062d-4474-fad1-f4c56f9a56ff"
      },
      "source": [
        "from google.colab import drive\n",
        "drive.mount(\"/content/drive\")"
      ],
      "execution_count": null,
      "outputs": [
        {
          "output_type": "stream",
          "text": [
            "Mounted at /content/drive\n"
          ],
          "name": "stdout"
        }
      ]
    },
    {
      "cell_type": "markdown",
      "metadata": {
        "id": "fv0M-zrC8il-"
      },
      "source": [
        ""
      ]
    }
  ]
}